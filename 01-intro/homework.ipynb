{
 "cells": [
  {
   "cell_type": "code",
   "execution_count": 1,
   "metadata": {},
   "outputs": [
    {
     "name": "stdout",
     "output_type": "stream",
     "text": [
      "Pandas version: 2.2.2\n",
      "sklearn version: 1.4.2\n"
     ]
    }
   ],
   "source": [
    "import pandas as pd\n",
    "print(f'Pandas version: {pd.__version__}')\n",
    "import sklearn\n",
    "print(f'sklearn version: {sklearn.__version__}')"
   ]
  },
  {
   "cell_type": "markdown",
   "metadata": {},
   "source": [
    "## Q1. Downloading the data\n",
    "Download the data for January and February 2023.\n",
    "Read the data for January. How many columns are there?\n"
   ]
  },
  {
   "cell_type": "code",
   "execution_count": 2,
   "metadata": {},
   "outputs": [
    {
     "name": "stdout",
     "output_type": "stream",
     "text": [
      "There are 19 columns\n"
     ]
    }
   ],
   "source": [
    "df_01 = pd.read_parquet('https://d37ci6vzurychx.cloudfront.net/trip-data/yellow_tripdata_2023-01.parquet')\n",
    "df_02 = pd.read_parquet('https://d37ci6vzurychx.cloudfront.net/trip-data/yellow_tripdata_2023-02.parquet')\n",
    "print(f'There are {len(df_01.columns)} columns')"
   ]
  },
  {
   "cell_type": "markdown",
   "metadata": {},
   "source": [
    "## Q2. Computing duration \n",
    "Now let's compute the __duration__ variable. It should contain the duration of a ride in minutes.\n",
    "What's the standard deviation of the trips duration in January?"
   ]
  },
  {
   "cell_type": "code",
   "execution_count": 3,
   "metadata": {},
   "outputs": [
    {
     "name": "stdout",
     "output_type": "stream",
     "text": [
      "Std is: 42.59\n"
     ]
    }
   ],
   "source": [
    "df_01.columns\n",
    "df_01['duration'] = df_01.tpep_dropoff_datetime - df_01.tpep_pickup_datetime\n",
    "df_01['duration_sec'] = df_01['duration'].apply(lambda td: td.total_seconds())\n",
    "df_01['duration_min'] = df_01['duration'].apply(lambda td: td.total_seconds() * 1. / 60)\n",
    "print(f\"Std is: {df_01['duration_min'].std():.2f}\")"
   ]
  },
  {
   "cell_type": "markdown",
   "metadata": {},
   "source": [
    "## Q3. Dropping outliers\n",
    "Next, we need to check the distribution of the duration variable. There are some outliers. Let's remove them and keep only the records where the duration was between 1 and 60 minutes (inclusive).\n",
    "What fraction of the records left after you dropped the outliers?"
   ]
  },
  {
   "cell_type": "code",
   "execution_count": 4,
   "metadata": {},
   "outputs": [
    {
     "name": "stdout",
     "output_type": "stream",
     "text": [
      "Filtered DataFrame is 98.12% of whole df\n"
     ]
    }
   ],
   "source": [
    "filtered_df = df_01[(df_01['duration_min'] >= 1) & (df_01['duration_min'] <= 60)]\n",
    "\n",
    "# Calculate the fraction of records left after filtering\n",
    "fraction_left = len(filtered_df) / len(df_01)\n",
    "print(f\"Filtered DataFrame is {fraction_left * 100:.2f}% of whole df\")"
   ]
  }
 ],
 "metadata": {
  "kernelspec": {
   "display_name": "Python 3",
   "language": "python",
   "name": "python3"
  },
  "language_info": {
   "codemirror_mode": {
    "name": "ipython",
    "version": 3
   },
   "file_extension": ".py",
   "mimetype": "text/x-python",
   "name": "python",
   "nbconvert_exporter": "python",
   "pygments_lexer": "ipython3",
   "version": "3.10.13"
  }
 },
 "nbformat": 4,
 "nbformat_minor": 2
}
